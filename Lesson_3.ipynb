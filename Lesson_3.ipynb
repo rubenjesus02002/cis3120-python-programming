{
  "nbformat": 4,
  "nbformat_minor": 0,
  "metadata": {
    "colab": {
      "provenance": [],
      "authorship_tag": "ABX9TyOEUeWNNfYCkiyggRyP1/hq",
      "include_colab_link": true
    },
    "kernelspec": {
      "name": "python3",
      "display_name": "Python 3"
    },
    "language_info": {
      "name": "python"
    }
  },
  "cells": [
    {
      "cell_type": "markdown",
      "metadata": {
        "id": "view-in-github",
        "colab_type": "text"
      },
      "source": [
        "<a href=\"https://colab.research.google.com/github/rubenjesus02002/cis3120-python-programming-/blob/main/Lesson_3.ipynb\" target=\"_parent\"><img src=\"https://colab.research.google.com/assets/colab-badge.svg\" alt=\"Open In Colab\"/></a>"
      ]
    },
    {
      "cell_type": "markdown",
      "source": [
        "# **Using Web Scraping to run analysis with Pandas Python: Find MEAN, SUM, STDEV, MIN, MAX."
      ],
      "metadata": {
        "id": "plrH_7MGokDe"
      }
    },
    {
      "cell_type": "code",
      "source": [
        "import requests\n",
        "from bs4 import BeautifulSoup\n",
        "\n",
        "import pandas as pd"
      ],
      "metadata": {
        "id": "-aaZCk80jC2R"
      },
      "execution_count": 7,
      "outputs": []
    },
    {
      "cell_type": "code",
      "source": [],
      "metadata": {
        "id": "zdpm_-yIjBoJ"
      },
      "execution_count": null,
      "outputs": []
    },
    {
      "cell_type": "code",
      "source": [],
      "metadata": {
        "id": "JN1oDZ-ujBNW"
      },
      "execution_count": null,
      "outputs": []
    },
    {
      "cell_type": "code",
      "execution_count": null,
      "metadata": {
        "id": "Ouqx9Jb9iHn4"
      },
      "outputs": [],
      "source": [
        "soup = BeautifulSoup(page.content, ('html.parser')"
      ]
    },
    {
      "cell_type": "code",
      "source": [
        "rows = soup.find_all('tr')"
      ],
      "metadata": {
        "id": "5oc8BOpojI6D"
      },
      "execution_count": null,
      "outputs": []
    },
    {
      "cell_type": "markdown",
      "source": [
        "Lists to store the month and money"
      ],
      "metadata": {
        "id": "RwLACc9XkeAr"
      }
    },
    {
      "cell_type": "code",
      "source": [
        "months = []"
      ],
      "metadata": {
        "id": "ih_e8UaUkggk"
      },
      "execution_count": null,
      "outputs": []
    },
    {
      "cell_type": "code",
      "source": [
        "savings = []"
      ],
      "metadata": {
        "id": "fNPlxInlknHu"
      },
      "execution_count": null,
      "outputs": []
    },
    {
      "cell_type": "markdown",
      "source": [
        "Example of list slicing\n"
      ],
      "metadata": {
        "id": "mBF9eaP2oI9t"
      }
    },
    {
      "cell_type": "code",
      "source": [
        "fruits = ['apples', 'mangoes', 'oranges', 'lemons', 'kiwis']\n",
        "fruits[1:]"
      ],
      "metadata": {
        "id": "V4PX2Ls4oJcr"
      },
      "execution_count": null,
      "outputs": []
    },
    {
      "cell_type": "markdown",
      "source": [
        "go to each row and extract <td> tags"
      ],
      "metadata": {
        "id": "jVGiyWyildx-"
      }
    },
    {
      "cell_type": "code",
      "source": [
        "for row in rows[1:0]:\n",
        "  td_tags = row.find_all('td')\n",
        "  if len(td_tags) == 2:\n",
        "    months.append(td_tags[0].get_text())\n",
        "    savings.append( float( td_tags[1].get_text().replace('$', '') ) )\n"
      ],
      "metadata": {
        "colab": {
          "base_uri": "https://localhost:8080/",
          "height": 108
        },
        "id": "xrSySG1QkqJf",
        "outputId": "5f956ec3-e612-4195-943e-2f1b39844dda"
      },
      "execution_count": 8,
      "outputs": [
        {
          "output_type": "error",
          "ename": "SyntaxError",
          "evalue": "incomplete input (ipython-input-8-3767784226.py, line 1)",
          "traceback": [
            "\u001b[0;36m  File \u001b[0;32m\"/tmp/ipython-input-8-3767784226.py\"\u001b[0;36m, line \u001b[0;32m1\u001b[0m\n\u001b[0;31m    for i in td_tags:\u001b[0m\n\u001b[0m                     ^\u001b[0m\n\u001b[0;31mSyntaxError\u001b[0m\u001b[0;31m:\u001b[0m incomplete input\n"
          ]
        }
      ]
    },
    {
      "cell_type": "code",
      "source": [
        "#creating a dictionary to store the data"
      ],
      "metadata": {
        "id": "IKn3QIngnSOj"
      },
      "execution_count": null,
      "outputs": []
    },
    {
      "cell_type": "code",
      "source": [
        "savings_data_df = pd.DataFrame(savings_date)"
      ],
      "metadata": {
        "id": "lBCgrhPmmlih"
      },
      "execution_count": 16,
      "outputs": []
    },
    {
      "cell_type": "code",
      "source": [
        "savings_data_df.descirbe()"
      ],
      "metadata": {
        "id": "_SyXRFHrkvT5"
      },
      "execution_count": 23,
      "outputs": []
    },
    {
      "cell_type": "code",
      "source": [
        "savings_data_df.info()"
      ],
      "metadata": {
        "id": "JEc-slVmnCwg"
      },
      "execution_count": null,
      "outputs": []
    },
    {
      "cell_type": "code",
      "source": [
        "x = savings[0]"
      ],
      "metadata": {
        "id": "an6kG2Csp6BR"
      },
      "execution_count": 24,
      "outputs": []
    },
    {
      "cell_type": "code",
      "source": [
        "float(x[1:])"
      ],
      "metadata": {
        "id": "uhxjPaB2qjJv"
      },
      "execution_count": null,
      "outputs": []
    },
    {
      "cell_type": "markdown",
      "source": [
        "Export to CSV"
      ],
      "metadata": {
        "id": "Y7QYLeCssVT-"
      }
    },
    {
      "cell_type": "code",
      "source": [
        "savings_data_df.to_csv('Monthly_Savings.csv',index False)"
      ],
      "metadata": {
        "id": "gqaMlbsdsWby"
      },
      "execution_count": null,
      "outputs": []
    }
  ]
}