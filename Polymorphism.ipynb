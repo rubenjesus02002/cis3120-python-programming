{
  "nbformat": 4,
  "nbformat_minor": 0,
  "metadata": {
    "colab": {
      "provenance": [],
      "authorship_tag": "ABX9TyO/S3wE+Gd10rxKEEEcTejW",
      "include_colab_link": true
    },
    "kernelspec": {
      "name": "python3",
      "display_name": "Python 3"
    },
    "language_info": {
      "name": "python"
    }
  },
  "cells": [
    {
      "cell_type": "markdown",
      "metadata": {
        "id": "view-in-github",
        "colab_type": "text"
      },
      "source": [
        "<a href=\"https://colab.research.google.com/github/rubenjesus02002/cis3120-python-programming/blob/main/Polymorphism.ipynb\" target=\"_parent\"><img src=\"https://colab.research.google.com/assets/colab-badge.svg\" alt=\"Open In Colab\"/></a>"
      ]
    },
    {
      "cell_type": "code",
      "execution_count": 3,
      "metadata": {
        "colab": {
          "base_uri": "https://localhost:8080/"
        },
        "id": "MQpGQXsesoD1",
        "outputId": "c738baea-9649-443e-98c7-64673d499da1"
      },
      "outputs": [
        {
          "output_type": "stream",
          "name": "stdout",
          "text": [
            "100\n",
            "50\n"
          ]
        }
      ],
      "source": [
        "class Product:\n",
        "    def __init__(self, price):\n",
        "        self.price = price  # This calls the setter\n",
        "\n",
        "    @property\n",
        "    def price(self):\n",
        "        return self.__price\n",
        "\n",
        "    @price.setter\n",
        "    def price(self, value):\n",
        "        if value < 0:\n",
        "            raise ValueError(\"Price cannot be negative\")\n",
        "        self.__price = value\n",
        "\n",
        "\n",
        "# Testing\n",
        "p1 = Product(100)\n",
        "print(p1.price)\n",
        "\n",
        "p1.price = 50\n",
        "print(p1.price)\n"
      ]
    },
    {
      "cell_type": "code",
      "source": [
        " # creating an object of the class\n",
        " phone = Product(99.99)\n",
        " print(phone.price)"
      ],
      "metadata": {
        "colab": {
          "base_uri": "https://localhost:8080/"
        },
        "id": "vzpXZDq2tE6y",
        "outputId": "13882652-6047-451c-b81b-a2e46d9996c9"
      },
      "execution_count": 4,
      "outputs": [
        {
          "output_type": "stream",
          "name": "stdout",
          "text": [
            "99.99\n"
          ]
        }
      ]
    },
    {
      "cell_type": "code",
      "source": [
        "print(phone.price - 10)"
      ],
      "metadata": {
        "colab": {
          "base_uri": "https://localhost:8080/"
        },
        "id": "UmkDMJPwtjZP",
        "outputId": "78a1da92-9634-4319-a984-2e373b98e0e5"
      },
      "execution_count": 6,
      "outputs": [
        {
          "output_type": "stream",
          "name": "stdout",
          "text": [
            "89.99\n"
          ]
        }
      ]
    },
    {
      "cell_type": "code",
      "source": [
        "phone.price = 80\n",
        "print(phone.price)"
      ],
      "metadata": {
        "colab": {
          "base_uri": "https://localhost:8080/"
        },
        "id": "BlhflqbwtoZ0",
        "outputId": "19ba9418-55ea-4e03-eb68-68f72770be62"
      },
      "execution_count": 7,
      "outputs": [
        {
          "output_type": "stream",
          "name": "stdout",
          "text": [
            "80\n"
          ]
        }
      ]
    },
    {
      "cell_type": "markdown",
      "source": [
        "#**Polymorphism**"
      ],
      "metadata": {
        "id": "b2WbSE9UuXCu"
      }
    },
    {
      "cell_type": "code",
      "source": [
        "class Animal:\n",
        "  def speak(self):\n",
        "    return 'Some Type of Sound'\n"
      ],
      "metadata": {
        "id": "T0nWXgtItsJf"
      },
      "execution_count": 17,
      "outputs": []
    },
    {
      "cell_type": "markdown",
      "source": [
        "**Dog class inherits from the Animal class, but overrides the speak method.**\n",
        "\n",
        "---\n",
        "\n"
      ],
      "metadata": {
        "id": "Q7iw7ZkDuuom"
      }
    },
    {
      "cell_type": "code",
      "source": [
        "class Dog(Animal):\n",
        "  def speak(self):\n",
        "    return 'Woof!'\n"
      ],
      "metadata": {
        "id": "kqJUQX8BuywI"
      },
      "execution_count": 18,
      "outputs": []
    },
    {
      "cell_type": "markdown",
      "source": [
        "**Cat class inherits from the Animal class, but overrides the speak method.**\n",
        "\n",
        "---\n",
        "\n"
      ],
      "metadata": {
        "id": "ZghZSWg-vD7W"
      }
    },
    {
      "cell_type": "code",
      "source": [
        "class Cat(Animal):\n",
        "  def speak(self):\n",
        "    return 'Meow!'"
      ],
      "metadata": {
        "id": "qjU1RjyHvFB9"
      },
      "execution_count": 19,
      "outputs": []
    },
    {
      "cell_type": "markdown",
      "source": [
        "**Creating a list of objects**"
      ],
      "metadata": {
        "id": "_VcCSHE_varZ"
      }
    },
    {
      "cell_type": "code",
      "source": [
        "# Create an object of the animal class\n",
        "\n",
        "random_animal = Animal()\n",
        "\n",
        "# Create an object of the dog class\n",
        "fido = Dog()\n",
        "\n",
        "# Create an object of the cat class\n",
        "bella = Cat()"
      ],
      "metadata": {
        "id": "M20uVtygvfBt"
      },
      "execution_count": 20,
      "outputs": []
    },
    {
      "cell_type": "markdown",
      "source": [
        "**Creating a list of objects**"
      ],
      "metadata": {
        "id": "3iQLlaLvv_l3"
      }
    },
    {
      "cell_type": "code",
      "source": [
        "animals = [random_animal, fido, bella]\n",
        "\n",
        "for a in animals:\n",
        "  print(a.speak())\n",
        ""
      ],
      "metadata": {
        "colab": {
          "base_uri": "https://localhost:8080/"
        },
        "id": "8Zch4krAv8n-",
        "outputId": "e846fabb-fcb5-4ad0-8cd9-a12561c95168"
      },
      "execution_count": 21,
      "outputs": [
        {
          "output_type": "stream",
          "name": "stdout",
          "text": [
            "Some Type of Sound\n",
            "Woof!\n",
            "Meow!\n"
          ]
        }
      ]
    }
  ]
}