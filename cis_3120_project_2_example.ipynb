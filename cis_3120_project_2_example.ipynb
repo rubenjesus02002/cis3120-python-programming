{
  "nbformat": 4,
  "nbformat_minor": 0,
  "metadata": {
    "colab": {
      "provenance": [],
      "authorship_tag": "ABX9TyOQPQG9S7ScOekbrtoFqPyM",
      "include_colab_link": true
    },
    "kernelspec": {
      "name": "python3",
      "display_name": "Python 3"
    },
    "language_info": {
      "name": "python"
    }
  },
  "cells": [
    {
      "cell_type": "markdown",
      "metadata": {
        "id": "view-in-github",
        "colab_type": "text"
      },
      "source": [
        "<a href=\"https://colab.research.google.com/github/rubenjesus02002/cis3120-python-programming-/blob/main/cis_3120_project_2_example.ipynb\" target=\"_parent\"><img src=\"https://colab.research.google.com/assets/colab-badge.svg\" alt=\"Open In Colab\"/></a>"
      ]
    },
    {
      "cell_type": "markdown",
      "source": [
        "# **Find AVG height of Baruch Men's Volleball team by Web Scraping\n"
      ],
      "metadata": {
        "id": "rXaCqQxTy_0G"
      }
    },
    {
      "cell_type": "code",
      "execution_count": 36,
      "metadata": {
        "id": "6WGZcrgwtleF"
      },
      "outputs": [],
      "source": [
        "import requests\n",
        "from bs4 import BeautifulSoup\n"
      ]
    },
    {
      "cell_type": "code",
      "source": [
        "url = \"https://athletics.baruch.cuny.edu/sports/mens-volleyball/roster\""
      ],
      "metadata": {
        "id": "WAyz2heztvZR"
      },
      "execution_count": 38,
      "outputs": []
    },
    {
      "cell_type": "code",
      "source": [
        "headers = {\n",
        "  'User-Agent': 'Mozilla/5.0 (Macintosh; Intel Mac OS X 10_15_7) AppleWebKit/537.36 (KHTML, like Gecko) Chrome/112.0.0.0 Safari/537.36',\n",
        "  'Accept': 'text/html,application/xhtml+xml,application/xml;q=0.9,image/webp,image/apng,*/*;q=0.8',\n",
        "  'Accept-Language': 'en-US,en;q=0.9',\n",
        "  'Connection': 'keep-alive'\n",
        "  }\n",
        "\n",
        "# making a request to the server\n",
        "page = requests.get(url, headers= headers, verify = False)"
      ],
      "metadata": {
        "colab": {
          "base_uri": "https://localhost:8080/"
        },
        "id": "E0Jx3JiA1C2R",
        "outputId": "8d7a4b0f-dcc6-4b17-a4fa-64b60d171604"
      },
      "execution_count": 39,
      "outputs": [
        {
          "output_type": "stream",
          "name": "stderr",
          "text": [
            "/usr/local/lib/python3.11/dist-packages/urllib3/connectionpool.py:1097: InsecureRequestWarning: Unverified HTTPS request is being made to host 'athletics.baruch.cuny.edu'. Adding certificate verification is strongly advised. See: https://urllib3.readthedocs.io/en/latest/advanced-usage.html#tls-warnings\n",
            "  warnings.warn(\n"
          ]
        }
      ]
    },
    {
      "cell_type": "code",
      "source": [
        "page = requests.get(url)"
      ],
      "metadata": {
        "id": "spgeWA-mt3ck"
      },
      "execution_count": 40,
      "outputs": []
    },
    {
      "cell_type": "code",
      "source": [
        "page.status_code"
      ],
      "metadata": {
        "colab": {
          "base_uri": "https://localhost:8080/"
        },
        "id": "gvCoo2ULt_Uv",
        "outputId": "48ca7105-6c21-40f2-c3da-8bd7437fc0d7"
      },
      "execution_count": 41,
      "outputs": [
        {
          "output_type": "execute_result",
          "data": {
            "text/plain": [
              "200"
            ]
          },
          "metadata": {},
          "execution_count": 41
        }
      ]
    },
    {
      "cell_type": "markdown",
      "source": [
        "Importing raw html into Beatuifulsoup"
      ],
      "metadata": {
        "id": "EZv74z-cu9zr"
      }
    },
    {
      "cell_type": "code",
      "source": [
        "soup = BeautifulSoup(page.content,'html.parser')"
      ],
      "metadata": {
        "id": "PBS3qwX8uKeA"
      },
      "execution_count": 42,
      "outputs": []
    },
    {
      "cell_type": "code",
      "source": [
        "td_tags = soup.find_all('td',class_='height')"
      ],
      "metadata": {
        "id": "-Y5-SeE6uceW"
      },
      "execution_count": 43,
      "outputs": []
    },
    {
      "cell_type": "code",
      "source": [
        "heights = []\n",
        "for td_tag in td_tags:\n",
        "  # raw_height = td_tag.get_text()\n",
        "  # feet = float(raw_height[0])\n",
        "  # inches = float(raw_height[2:])\n",
        "\n",
        "  raw_height = td_tag.get_text().split('-')\n",
        "  feet = float(raw_height[0])\n",
        "  inches = float(raw_height[1])\n",
        "  height_in_inches = feet * 12 + inches\n",
        "  #print(f'raw height: {raw_height}, after using split: {split_heights}' )\n",
        "  #print(f'raw height: {raw_height}, height in inches: {height_in_inches}' )\n",
        "  heights.append(height_in_inches)"
      ],
      "metadata": {
        "id": "kw54QeXDvHaQ"
      },
      "execution_count": 44,
      "outputs": []
    },
    {
      "cell_type": "code",
      "source": [
        "heights"
      ],
      "metadata": {
        "colab": {
          "base_uri": "https://localhost:8080/"
        },
        "id": "BKxzo7kLvZ0F",
        "outputId": "373cadaf-7210-47cc-ad75-952ec49ed171"
      },
      "execution_count": 45,
      "outputs": [
        {
          "output_type": "execute_result",
          "data": {
            "text/plain": [
              "[74.0,\n",
              " 75.0,\n",
              " 68.0,\n",
              " 74.0,\n",
              " 71.0,\n",
              " 76.0,\n",
              " 72.0,\n",
              " 69.0,\n",
              " 72.0,\n",
              " 69.0,\n",
              " 69.0,\n",
              " 72.0,\n",
              " 77.0,\n",
              " 67.0,\n",
              " 71.0,\n",
              " 69.0]"
            ]
          },
          "metadata": {},
          "execution_count": 45
        }
      ]
    },
    {
      "cell_type": "code",
      "source": [
        "avg_height = sum(heights) / len(heights)\n",
        "print(f'The avg height is {round(avg_height,2)} inches')"
      ],
      "metadata": {
        "colab": {
          "base_uri": "https://localhost:8080/"
        },
        "id": "TJsU9aYN1cEW",
        "outputId": "5f5abdb5-9d06-4d91-91bd-fb13c94df955"
      },
      "execution_count": 46,
      "outputs": [
        {
          "output_type": "stream",
          "name": "stdout",
          "text": [
            "The avg height is 71.56 inches\n"
          ]
        }
      ]
    },
    {
      "cell_type": "code",
      "source": [
        "x = '5-11'\n",
        "float(x.replace('-','.'))"
      ],
      "metadata": {
        "colab": {
          "base_uri": "https://localhost:8080/"
        },
        "id": "2e9CexL81eAU",
        "outputId": "f4cdc7a7-ee79-465c-aede-50ae3ab745c7"
      },
      "execution_count": 47,
      "outputs": [
        {
          "output_type": "execute_result",
          "data": {
            "text/plain": [
              "5.11"
            ]
          },
          "metadata": {},
          "execution_count": 47
        }
      ]
    }
  ]
}