{
  "nbformat": 4,
  "nbformat_minor": 0,
  "metadata": {
    "colab": {
      "provenance": [],
      "include_colab_link": true
    },
    "kernelspec": {
      "name": "python3",
      "display_name": "Python 3"
    },
    "language_info": {
      "name": "python"
    }
  },
  "cells": [
    {
      "cell_type": "markdown",
      "metadata": {
        "id": "view-in-github",
        "colab_type": "text"
      },
      "source": [
        "<a href=\"https://colab.research.google.com/github/rubenjesus02002/cis3120-python-programming-/blob/main/Basic_OOP_Python.ipynb\" target=\"_parent\"><img src=\"https://colab.research.google.com/assets/colab-badge.svg\" alt=\"Open In Colab\"/></a>"
      ]
    },
    {
      "cell_type": "code",
      "source": [
        "# A class is an abstract data type.\n",
        "# An integer, string, char, bool, float, etc are primitive data types.\n",
        "class Person:\n",
        "  # Constructor - special method that is called whenever an object is created\n",
        "  def __init__(self, name, age, address, zipcode, occupation):\n",
        "    # Properties - variables that are associated with a particular class\n",
        "    self.name = name\n",
        "    self.age = age\n",
        "    # Adding the double underbar makes these properties private\n",
        "    self.__address = address\n",
        "    self.__zipcode = zipcode\n",
        "    self.occupation = occupation\n",
        "\n",
        "    print(f\"Constructor is called when creating {self.name}'s object.\")\n",
        "\n",
        "  # Getters- these are methods that return data contained in class properties\n",
        "  def get_name(self):\n",
        "    return self.name\n",
        "\n",
        "  def get_age(self):\n",
        "    return self.age\n",
        "\n",
        "  def get_occupation(self):\n",
        "    return self.occupation\n",
        "\n",
        "  def get_address(self):\n",
        "    return self.address\n",
        "\n",
        "  def get_zipcode(self):\n",
        "    return self.zipcode\n",
        "\n",
        "  # Setters - methods that change or update the class properties\n",
        "  def set_occupation(self, new_occupation):\n",
        "    self.occupation = new_occupation\n",
        "\n",
        "  def set_age(self, new_age):\n",
        "    if new_age < 0:\n",
        "      print('Error: Invalid age value!')\n",
        "      return\n",
        "    self.age = new_age\n",
        "\n",
        "  def set_address(self, new_address):\n",
        "    self.address = new_address\n",
        "\n",
        "  def set_zipcode(self, new_zipcode):\n",
        "    self.zipcode = new_zipcode\n",
        "\n",
        "  def set_name(self, new_name):\n",
        "    self.name = new_name\n"
      ],
      "metadata": {
        "id": "v9T8UlurU5nI"
      },
      "execution_count": null,
      "outputs": []
    },
    {
      "cell_type": "code",
      "source": [
        "# Creating an Employee class which will extend or inherit the Person class\n",
        "class Employee(Person):\n",
        "  # constructor\n",
        "  def __init__(self, name, age, address, zipcode, occupation, salary, emplid, job_title):\n",
        "    super().__init__(name, age, address, zipcode, occupation)\n",
        "\n",
        "    # setting the class properties\n",
        "    self.salary = salary\n",
        "    self.emplid = emplid\n",
        "    self.job_title = job_title\n",
        "\n",
        "  # setter methods\n",
        "  def set_salary(self, new_salary):\n",
        "    self.salary = new_salary\n",
        "\n",
        "  def set_emplid(self, new_emplid):\n",
        "    self.emplid = new_emplid\n",
        "\n",
        "  def set_job_title(self, new_job_title):\n",
        "    self.job_title = new_job_title\n",
        "\n",
        "    # getter methods\n",
        "  def get_salary(self):\n",
        "      return self.salary\n",
        "\n",
        "  def get_emplid(self):\n",
        "      return self.emplid\n",
        "\n",
        "  def get_job_title(self):\n",
        "      return self.job_title\n",
        "\n",
        "\n",
        "\n"
      ],
      "metadata": {
        "id": "-d0iw4_XdxW6"
      },
      "execution_count": null,
      "outputs": []
    },
    {
      "cell_type": "code",
      "source": [
        "# Instantiate an object of the Employee class\n",
        "mike = Employee('Mike', 30, '2 Water Street', 54123, 'Engineer', 120000, 1234, 'Engineer - Level 1')"
      ],
      "metadata": {
        "colab": {
          "base_uri": "https://localhost:8080/"
        },
        "id": "YnACZLy5gfxn",
        "outputId": "1fa1c8c0-5e08-4f71-8e2a-efccae2193f9"
      },
      "execution_count": null,
      "outputs": [
        {
          "output_type": "stream",
          "name": "stdout",
          "text": [
            "Constructor is called when creating Mike's object.\n"
          ]
        }
      ]
    },
    {
      "cell_type": "code",
      "source": [
        "mike.set_age(-40)"
      ],
      "metadata": {
        "colab": {
          "base_uri": "https://localhost:8080/"
        },
        "id": "ZarAIRNvoQW0",
        "outputId": "c3e7e9f2-6c65-43d4-ad61-a54591c5bc55"
      },
      "execution_count": null,
      "outputs": [
        {
          "output_type": "stream",
          "name": "stdout",
          "text": [
            "Error: Invalid age value!\n"
          ]
        }
      ]
    },
    {
      "cell_type": "code",
      "source": [
        "mike.age = -20"
      ],
      "metadata": {
        "id": "dHKRxbKVoFgm"
      },
      "execution_count": null,
      "outputs": []
    },
    {
      "cell_type": "code",
      "source": [
        "mike.age"
      ],
      "metadata": {
        "colab": {
          "base_uri": "https://localhost:8080/"
        },
        "id": "hBZ7f5yPouz8",
        "outputId": "e3a5ceee-9eb4-4521-b0ea-42d15d8f9eb8"
      },
      "execution_count": null,
      "outputs": [
        {
          "output_type": "execute_result",
          "data": {
            "text/plain": [
              "-20"
            ]
          },
          "metadata": {},
          "execution_count": 108
        }
      ]
    },
    {
      "cell_type": "code",
      "source": [
        "# Print Mike's name, job title, and salary\n",
        "print(f'Name: {mike.get_name()}')\n",
        "print(f'Job Title: {mike.get_job_title()}')\n",
        "print(f'Salary: $ {mike.get_salary()}')\n",
        "print(f'Age (before birthday): {mike.get_age()}')\n",
        "\n",
        "# Today is Mike's birthday, we need to +1 to Mike's age\n",
        "mike.set_age(mike.get_age() + 1 )\n",
        "print(f'Age on birthday: {mike.get_age()}')"
      ],
      "metadata": {
        "colab": {
          "base_uri": "https://localhost:8080/"
        },
        "id": "GjmPWNifgudg",
        "outputId": "0f4e1b27-cd65-485d-efd0-c3e1291daee7"
      },
      "execution_count": null,
      "outputs": [
        {
          "output_type": "stream",
          "name": "stdout",
          "text": [
            "Name: Mike\n",
            "Job Title: Engineer - Level 1\n",
            "Salary: $ 120000\n",
            "Age (before birthday): 30\n",
            "Age on birthday: 31\n"
          ]
        }
      ]
    },
    {
      "cell_type": "code",
      "source": [
        "'''\n",
        "  Create a class by the name of Patient. Patient inherits everything from the Person class.\n",
        "  Patient has two new properties: - medical_condition, medication\n",
        "'''\n",
        "class Patient(Person):\n",
        "  # create the constructor\n",
        "  def __init__(self, name, age, address, zipcode, occupation, medical_condition, medication):\n",
        "    # call the super constructor\n",
        "    super().__init__(name, age, address, zipcode, occupation)\n",
        "    self.medical_condition = medical_condition\n",
        "    self.medication = medication\n",
        "\n",
        "  # create setters\n",
        "  def set_medical_condition(self, new_medical_condition):\n",
        "    self.medical_condition = new_medical_condition\n",
        "\n",
        "  def set_medication(self, new_medication):\n",
        "    self.medication = new_medication\n",
        "\n",
        "  # create getters\n",
        "  def get_medication(self):\n",
        "    return self.medication\n",
        "\n",
        "  def get_medical_condition(self):\n",
        "    return self.medical_condition\n",
        "\n",
        "# Create an ojbect of the Patient class\n",
        "patient_1 = Patient('Random Person', 25, '3 Main Street', 31331, 'Baker', 'Flu', 'Cough Syrup')\n",
        "\n",
        "# Print the patient's name, address, medical condition, and medication\n",
        "print(f'Name: {patient_1.get_name()}')\n",
        "print(f'Full Address: {patient_1.get_address()}, {patient_1.get_zipcode()}')\n",
        "print(f'Medical Condition: {patient_1.get_medical_condition()}, Medication: {patient_1.get_medication()}')\n"
      ],
      "metadata": {
        "colab": {
          "base_uri": "https://localhost:8080/"
        },
        "id": "KoK20Ge8gubZ",
        "outputId": "8dc409b9-aed6-4a90-ea44-59b54e3a1c72"
      },
      "execution_count": null,
      "outputs": [
        {
          "output_type": "stream",
          "name": "stdout",
          "text": [
            "Constructor is called when creating Random Person's object.\n",
            "Name: Random Person\n",
            "Full Address: 3 Main Street, 31331\n",
            "Medical Condition: Flu, Medication: Cough Syrup\n"
          ]
        }
      ]
    },
    {
      "cell_type": "code",
      "source": [
        "# Creating an object of the Person class\n",
        "# Instantiating a class - this means I am creating an object of the class\n",
        "joan = Person('Joan', 22, '1 Main Street', 90121, 'Engineer' )"
      ],
      "metadata": {
        "colab": {
          "base_uri": "https://localhost:8080/"
        },
        "id": "6EV7ZsRRU5jo",
        "outputId": "a45b01ab-5f43-4b31-c356-7a6c8bae8c0b"
      },
      "execution_count": null,
      "outputs": [
        {
          "output_type": "stream",
          "name": "stdout",
          "text": [
            "Constructor is called when creating Joan's object.\n"
          ]
        }
      ]
    },
    {
      "cell_type": "code",
      "source": [
        "# Accessing the class properties via getters\n",
        "print(f'Name: {joan.get_name()}')\n",
        "print(f'Before Birthday - Age: {joan.get_age()}')\n",
        "print(f'Occupation: {joan.get_occupation()}')\n",
        "print(f'Full Address: {joan.get_address()}, {joan.get_zipcode()}')"
      ],
      "metadata": {
        "colab": {
          "base_uri": "https://localhost:8080/"
        },
        "id": "gfpzSpfRbJXO",
        "outputId": "2fb69bd7-d1fe-4a5e-936e-c9e89cb36a96"
      },
      "execution_count": null,
      "outputs": [
        {
          "output_type": "stream",
          "name": "stdout",
          "text": [
            "Name: Joan\n",
            "Before Birthday - Age: 22\n",
            "Occupation: Engineer\n",
            "Full Address: 1 Main Street, 90121\n"
          ]
        }
      ]
    },
    {
      "cell_type": "code",
      "source": [
        "# Accessing the class properties directly\n",
        "print(f'Name: {joan.name}')\n",
        "print(f'Before Birthday - Age: {joan.age}')\n",
        "print(f'Before Promotion - Occupation: {joan.occupation}')\n",
        "joan.set_occupation('Senior Engineer')\n",
        "print(f'After Promotion - Occupation: {joan.occupation}')\n",
        "joan.set_age(23)\n",
        "print(f'After Birthday - Age: {joan.age}')\n"
      ],
      "metadata": {
        "colab": {
          "base_uri": "https://localhost:8080/"
        },
        "id": "rM7cKpBtU5eh",
        "outputId": "a765d21c-823b-438a-ff75-9778f973363a"
      },
      "execution_count": null,
      "outputs": [
        {
          "output_type": "stream",
          "name": "stdout",
          "text": [
            "Name: Joan\n",
            "Before Birthday - Age: 22\n",
            "Before Promotion - Occupation: Engineer\n",
            "After Promotion - Occupation: Senior Engineer\n",
            "After Birthday - Age: 23\n"
          ]
        }
      ]
    },
    {
      "cell_type": "code",
      "source": [
        "lisa = Person('Lisa', 35, '2 Lexington Ave', 11411, 'Architect' )"
      ],
      "metadata": {
        "colab": {
          "base_uri": "https://localhost:8080/"
        },
        "id": "LBf8aCJRXY_t",
        "outputId": "83e9da08-9d21-472f-c7ab-7d4b126b3195"
      },
      "execution_count": null,
      "outputs": [
        {
          "output_type": "stream",
          "name": "stdout",
          "text": [
            "Constructor is called when creating Lisa's object.\n"
          ]
        }
      ]
    },
    {
      "cell_type": "code",
      "source": [
        "print(f'Name: {lisa.name}')\n",
        "print(f'Age: {lisa.age}')\n"
      ],
      "metadata": {
        "colab": {
          "base_uri": "https://localhost:8080/"
        },
        "id": "4V4xnjMrX79-",
        "outputId": "e5d913e5-6c05-416c-9cca-e311728003ab"
      },
      "execution_count": null,
      "outputs": [
        {
          "output_type": "stream",
          "name": "stdout",
          "text": [
            "Name: Lisa\n",
            "Age: 35\n"
          ]
        }
      ]
    },
    {
      "cell_type": "code",
      "source": [
        "matthew = Person('Matthew', 40, '44 Ocean Drive', 24911, 'Banker')"
      ],
      "metadata": {
        "colab": {
          "base_uri": "https://localhost:8080/"
        },
        "id": "97se6keFXUnW",
        "outputId": "219f5571-dc81-419b-ad16-2e254510aecc"
      },
      "execution_count": null,
      "outputs": [
        {
          "output_type": "stream",
          "name": "stdout",
          "text": [
            "Constructor is called when creating Matthew's object.\n"
          ]
        }
      ]
    },
    {
      "cell_type": "code",
      "source": [
        "print(f'Name: {matthew.name}')\n",
        "print(f'Age: {matthew.age}')\n"
      ],
      "metadata": {
        "colab": {
          "base_uri": "https://localhost:8080/"
        },
        "id": "Ck-JFcNCX4wv",
        "outputId": "9cd1d4a7-ad41-4d1d-a75e-81dc9fe08570"
      },
      "execution_count": null,
      "outputs": [
        {
          "output_type": "stream",
          "name": "stdout",
          "text": [
            "Name: Matthew\n",
            "Age: 40\n"
          ]
        }
      ]
    },
    {
      "cell_type": "code",
      "source": [],
      "metadata": {
        "id": "ceXRVwacdxUK"
      },
      "execution_count": null,
      "outputs": []
    },
    {
      "cell_type": "code",
      "source": [],
      "metadata": {
        "id": "zQWeZzWxdxRi"
      },
      "execution_count": null,
      "outputs": []
    },
    {
      "cell_type": "code",
      "source": [],
      "metadata": {
        "id": "b59zSqjGU5bw"
      },
      "execution_count": null,
      "outputs": []
    },
    {
      "cell_type": "code",
      "execution_count": null,
      "metadata": {
        "id": "gcbe018NTftN"
      },
      "outputs": [],
      "source": [
        "name = ['Joan', 'Lisa', 'Matthew', 'Leon']\n",
        "age = [22, 35, 40, 21]\n",
        "address = ['1 Main Street', '2 Lexington Ave', '44 Ocean Drive', '4 Water Street']\n",
        "zipcode = [90121, 11411, 29421, 24911]\n",
        "occupation = ['engineer', 'architect', 'banker', 'chef']\n"
      ]
    },
    {
      "cell_type": "code",
      "source": [
        "print(f'Name: {name[1]}')\n",
        "print(f'Age: {age[1]}')\n",
        "print(f'Address: {address[1]}, {zipcode[1]}')\n",
        "print(f'Occupation: {occupation[1]}')"
      ],
      "metadata": {
        "colab": {
          "base_uri": "https://localhost:8080/"
        },
        "id": "qym4mYfZT5ce",
        "outputId": "e9738f7a-5cc4-4634-bfe6-c764fa84f3a2"
      },
      "execution_count": null,
      "outputs": [
        {
          "output_type": "stream",
          "name": "stdout",
          "text": [
            "Name: Lisa\n",
            "Age: 35\n",
            "Address: 2 Lexington Ave, 11411\n",
            "Occupation: architect\n"
          ]
        }
      ]
    },
    {
      "cell_type": "code",
      "source": [],
      "metadata": {
        "id": "FNV-8pXzUMRm"
      },
      "execution_count": null,
      "outputs": []
    }
  ]
}