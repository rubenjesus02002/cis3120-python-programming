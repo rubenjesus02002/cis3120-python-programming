{
  "nbformat": 4,
  "nbformat_minor": 0,
  "metadata": {
    "colab": {
      "provenance": [],
      "authorship_tag": "ABX9TyPnYEqzzcfFDOa88eLCh79h",
      "include_colab_link": true
    },
    "kernelspec": {
      "name": "python3",
      "display_name": "Python 3"
    },
    "language_info": {
      "name": "python"
    }
  },
  "cells": [
    {
      "cell_type": "markdown",
      "metadata": {
        "id": "view-in-github",
        "colab_type": "text"
      },
      "source": [
        "<a href=\"https://colab.research.google.com/github/rubenjesus02002/cis3120-python-programming-/blob/main/Lesson_3_Exam_Prep.ipynb\" target=\"_parent\"><img src=\"https://colab.research.google.com/assets/colab-badge.svg\" alt=\"Open In Colab\"/></a>"
      ]
    },
    {
      "cell_type": "markdown",
      "source": [
        "# **Test Questions**"
      ],
      "metadata": {
        "id": "BKawueFFRc2K"
      }
    },
    {
      "cell_type": "code",
      "execution_count": 4,
      "metadata": {
        "colab": {
          "base_uri": "https://localhost:8080/"
        },
        "id": "UdTfkUuqQCfZ",
        "outputId": "e4cc105b-6750-4144-8ea6-0799ff0a6fe8"
      },
      "outputs": [
        {
          "output_type": "stream",
          "name": "stdout",
          "text": [
            "1 is odd\n",
            "2 is even\n",
            "3 is odd\n",
            "4 is even\n",
            "5 is odd\n",
            "6 is even\n",
            "7 is odd\n",
            "8 is even\n",
            "9 is odd\n",
            "10 is even\n"
          ]
        }
      ],
      "source": [
        "even_sum = 0\n",
        "odd_sum = 0\n",
        "\n",
        "i = 1\n",
        "\n",
        "while i < 11:\n",
        "  if i % 2 == 0:\n",
        "    print(f\"{i} is even\")\n",
        "    even_sum += i\n",
        "  else:\n",
        "    print(f\"{i} is odd\")\n",
        "    odd_sum += i\n",
        "  i +=1"
      ]
    },
    {
      "cell_type": "markdown",
      "source": [
        "# **Generate the integers from 1 to 10 and store them in a list**"
      ],
      "metadata": {
        "id": "FykOR7fcR_NZ"
      }
    },
    {
      "cell_type": "code",
      "source": [
        "nums = []\n",
        "\n",
        "for i in range(1,11):\n",
        "  nums.append(i)"
      ],
      "metadata": {
        "id": "o1ahNxcxQ7AA"
      },
      "execution_count": 9,
      "outputs": []
    },
    {
      "cell_type": "code",
      "source": [
        "nums"
      ],
      "metadata": {
        "colab": {
          "base_uri": "https://localhost:8080/"
        },
        "id": "ZS_faugxRbDT",
        "outputId": "a1e5888f-e976-4863-c863-ca3a40b1a492"
      },
      "execution_count": 10,
      "outputs": [
        {
          "output_type": "execute_result",
          "data": {
            "text/plain": [
              "[1, 2, 3, 4, 5, 6, 7, 8, 9, 10]"
            ]
          },
          "metadata": {},
          "execution_count": 10
        }
      ]
    },
    {
      "cell_type": "markdown",
      "source": [
        "**Using a list comprehension**"
      ],
      "metadata": {
        "id": "A2bOLoA1SIIO"
      }
    },
    {
      "cell_type": "code",
      "source": [
        "nums = [i for i in range(1,11)]\n",
        "nums"
      ],
      "metadata": {
        "colab": {
          "base_uri": "https://localhost:8080/"
        },
        "id": "wMaikH1qSHAm",
        "outputId": "73ea5b3d-95d0-43fa-d1bd-3f5f7a9991e5"
      },
      "execution_count": 12,
      "outputs": [
        {
          "output_type": "execute_result",
          "data": {
            "text/plain": [
              "[1, 2, 3, 4, 5, 6, 7, 8, 9, 10]"
            ]
          },
          "metadata": {},
          "execution_count": 12
        }
      ]
    },
    {
      "cell_type": "code",
      "source": [
        "#List Comprehension\n",
        "\n",
        "#Even Numbers between 1 and 10 (inclusive)\n",
        "\n",
        "even_nums = [ i for i in range(1,11) if i % 2 ==0]\n",
        "\n",
        "even_nums"
      ],
      "metadata": {
        "colab": {
          "base_uri": "https://localhost:8080/"
        },
        "id": "7CIP9ZnlS_Lr",
        "outputId": "98c758f0-c954-4412-95c3-41d07c8e7c4a"
      },
      "execution_count": 108,
      "outputs": [
        {
          "output_type": "execute_result",
          "data": {
            "text/plain": [
              "[2, 4, 6, 8, 10]"
            ]
          },
          "metadata": {},
          "execution_count": 108
        }
      ]
    },
    {
      "cell_type": "code",
      "source": [
        "#Odd Numbers between 1 and 10 (inclusive)\n",
        "odd_nums = [ i for i in range(1,11) if not i % 2 ==0]\n",
        "\n",
        "odd_nums"
      ],
      "metadata": {
        "colab": {
          "base_uri": "https://localhost:8080/"
        },
        "id": "OT-KMPUZT-7p",
        "outputId": "f96fcdee-e81e-4805-feec-22c0d3a28b29"
      },
      "execution_count": 18,
      "outputs": [
        {
          "output_type": "execute_result",
          "data": {
            "text/plain": [
              "[1, 3, 5, 7, 9]"
            ]
          },
          "metadata": {},
          "execution_count": 18
        }
      ]
    },
    {
      "cell_type": "code",
      "source": [
        "import statistics\n",
        "odd_nums = [ i for i in range(1,11) if not i % 2 ==0]\n",
        "print(statistics.mean(odd_nums))"
      ],
      "metadata": {
        "colab": {
          "base_uri": "https://localhost:8080/"
        },
        "id": "YGx1PjFcTBqP",
        "outputId": "43aad37b-66f6-4b58-f922-02c6720af295"
      },
      "execution_count": 21,
      "outputs": [
        {
          "output_type": "stream",
          "name": "stdout",
          "text": [
            "5\n"
          ]
        }
      ]
    },
    {
      "cell_type": "code",
      "source": [
        "#Without List Comprehension\n",
        "words = ['apple','is','a', 'fruit','tree','red']\n",
        "\n",
        "for word in words:\n",
        "  if len(word) > 4:\n",
        "    print(word)"
      ],
      "metadata": {
        "colab": {
          "base_uri": "https://localhost:8080/"
        },
        "id": "Oe-JZoIPUrvp",
        "outputId": "df75d486-77c4-49bc-fd7f-74d1b52d4af7"
      },
      "execution_count": 24,
      "outputs": [
        {
          "output_type": "stream",
          "name": "stdout",
          "text": [
            "apple\n",
            "fruit\n"
          ]
        }
      ]
    },
    {
      "cell_type": "code",
      "source": [
        "# List Comprehension\n",
        "\n",
        "words = ['apple','is','a', 'fruit','tree','red']\n",
        "\n",
        "long_words =[word for word in words if len(word) > 4]\n",
        "long_words"
      ],
      "metadata": {
        "colab": {
          "base_uri": "https://localhost:8080/"
        },
        "id": "bGCZZLZlVKap",
        "outputId": "c1769324-6b8e-4e71-86ca-63ec9a7ebcbe"
      },
      "execution_count": 26,
      "outputs": [
        {
          "output_type": "execute_result",
          "data": {
            "text/plain": [
              "['apple', 'fruit']"
            ]
          },
          "metadata": {},
          "execution_count": 26
        }
      ]
    },
    {
      "cell_type": "code",
      "source": [
        "# reverse each word in a sentence\n",
        "sentence = 'Python is amazing'\n",
        "reversed_words = []\n",
        "\n",
        "for word in sentence.split():\n",
        "    reversed_words.append(word[::-1])\n",
        "\n",
        "# join the reversed words with spaces\n",
        "output = ' '.join(reversed_words)\n",
        "print(output)\n"
      ],
      "metadata": {
        "colab": {
          "base_uri": "https://localhost:8080/"
        },
        "id": "S1F05_BRVlHQ",
        "outputId": "ead0925f-3768-416b-ad56-61ad3db5413f"
      },
      "execution_count": 77,
      "outputs": [
        {
          "output_type": "stream",
          "name": "stdout",
          "text": [
            "nohtyP si gnizama\n"
          ]
        }
      ]
    },
    {
      "cell_type": "code",
      "source": [
        "sentence = 'Python is amazing'\n",
        "reversed_words = ' '.join([word[::-1] for word in sentence.split()])\n",
        "print(reversed_words)\n"
      ],
      "metadata": {
        "colab": {
          "base_uri": "https://localhost:8080/"
        },
        "id": "LeCv9cGMZDvy",
        "outputId": "82d879aa-5589-4fbe-d7fa-8924b5b6442f"
      },
      "execution_count": 81,
      "outputs": [
        {
          "output_type": "stream",
          "name": "stdout",
          "text": [
            "nohtyP si gnizama\n"
          ]
        }
      ]
    },
    {
      "cell_type": "code",
      "source": [
        "# Without list comprehension\n",
        "matrix = [[1,2], [3,4],[ 5,6]]\n",
        "flattened = []\n",
        "\n",
        "for row in matrix:\n",
        "  for num in row:\n",
        "    flattened.append(num)\n",
        "\n",
        "flattened\n",
        "#Flatten the above into a single list\n",
        "for row in matrix:\n",
        "  for num in row:\n",
        "    print(num,end=' ')\n",
        "\n"
      ],
      "metadata": {
        "colab": {
          "base_uri": "https://localhost:8080/"
        },
        "id": "OS8ndMIyaCqk",
        "outputId": "a2a19d62-7027-48f4-e98f-5c89e51f13f1"
      },
      "execution_count": 92,
      "outputs": [
        {
          "output_type": "stream",
          "name": "stdout",
          "text": [
            "1 2 3 4 5 6 "
          ]
        }
      ]
    },
    {
      "cell_type": "code",
      "source": [
        "# With a list comprehension\n",
        "\n",
        "matrix = [[1,2], [3,4],[ 5,6]]\n",
        "flattened = [num for row in matrix for num in row]\n",
        "flattened\n",
        "\n"
      ],
      "metadata": {
        "colab": {
          "base_uri": "https://localhost:8080/"
        },
        "id": "jlOLPnlTa4Go",
        "outputId": "831c5e4c-e8a8-4fae-89ca-deab05095632"
      },
      "execution_count": 97,
      "outputs": [
        {
          "output_type": "execute_result",
          "data": {
            "text/plain": [
              "[1, 2, 3, 4, 5, 6]"
            ]
          },
          "metadata": {},
          "execution_count": 97
        }
      ]
    },
    {
      "cell_type": "code",
      "source": [
        "#Without list comp\n",
        "\n",
        "sentence = 'the lazy dog jumped over the brown fox'\n",
        "vowels = ['a', 'e', 'i', 'o', 'u']\n",
        "\n",
        "for char in sentence:\n",
        "  if char in vowels:\n",
        "    print(char,end=' ')\n",
        "# find all the vowels that exists in the sentence above\n",
        "\n"
      ],
      "metadata": {
        "colab": {
          "base_uri": "https://localhost:8080/"
        },
        "id": "4hTu1Ya0b9PF",
        "outputId": "98b6b63e-d21e-4c32-db69-2b22f5f1aa61"
      },
      "execution_count": 100,
      "outputs": [
        {
          "output_type": "stream",
          "name": "stdout",
          "text": [
            "e a o u e o e e o o "
          ]
        }
      ]
    },
    {
      "cell_type": "code",
      "source": [
        "# With list comprehension\n",
        "\n",
        "x = [char for char in sentence if char in vowels]\n",
        "x"
      ],
      "metadata": {
        "colab": {
          "base_uri": "https://localhost:8080/"
        },
        "id": "jh3gSMA8c0gQ",
        "outputId": "66fe7d77-4714-4ec9-d4d7-356f1434edd4"
      },
      "execution_count": 106,
      "outputs": [
        {
          "output_type": "execute_result",
          "data": {
            "text/plain": [
              "['e', 'a', 'o', 'u', 'e', 'o', 'e', 'e', 'o', 'o']"
            ]
          },
          "metadata": {},
          "execution_count": 106
        }
      ]
    }
  ]
}