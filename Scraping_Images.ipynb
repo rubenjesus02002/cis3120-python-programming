{
  "nbformat": 4,
  "nbformat_minor": 0,
  "metadata": {
    "colab": {
      "provenance": [],
      "include_colab_link": true
    },
    "kernelspec": {
      "name": "python3",
      "display_name": "Python 3"
    },
    "language_info": {
      "name": "python"
    }
  },
  "cells": [
    {
      "cell_type": "markdown",
      "metadata": {
        "id": "view-in-github",
        "colab_type": "text"
      },
      "source": [
        "<a href=\"https://colab.research.google.com/github/rubenjesus02002/cis3120-python-programming-/blob/main/Scraping_Images.ipynb\" target=\"_parent\"><img src=\"https://colab.research.google.com/assets/colab-badge.svg\" alt=\"Open In Colab\"/></a>"
      ]
    },
    {
      "cell_type": "markdown",
      "source": [
        "Import Libraries"
      ],
      "metadata": {
        "id": "8rBrAFrm5g7W"
      }
    },
    {
      "cell_type": "code",
      "execution_count": null,
      "metadata": {
        "id": "lQvx0Y1w3Nqc"
      },
      "outputs": [],
      "source": [
        "import requests\n",
        "from bs4 import BeautifulSoup\n",
        "import os\n",
        "from io import BytesIO\n",
        "import matplotlib.pyplot as plt\n",
        "from PIL import Image"
      ]
    },
    {
      "cell_type": "markdown",
      "source": [
        "Set the URL"
      ],
      "metadata": {
        "id": "SsypV7Ro55qn"
      }
    },
    {
      "cell_type": "code",
      "source": [
        "url = 'https://bronxzoo.com/animals/our-animals'"
      ],
      "metadata": {
        "id": "mgglKOwa54-w"
      },
      "execution_count": null,
      "outputs": []
    },
    {
      "cell_type": "markdown",
      "source": [
        "Make a request to the server"
      ],
      "metadata": {
        "id": "8BUwYX5n5_K_"
      }
    },
    {
      "cell_type": "code",
      "source": [
        "page = requests.get(url)"
      ],
      "metadata": {
        "id": "AugkTB5A5-s3"
      },
      "execution_count": null,
      "outputs": []
    },
    {
      "cell_type": "markdown",
      "source": [
        "Scrape only if request is successful"
      ],
      "metadata": {
        "id": "qirMAV_16FFH"
      }
    },
    {
      "cell_type": "code",
      "source": [
        "if page.status_code == 200:\n",
        "  # import the raw html into BeautifulSoup\n",
        "  soup = BeautifulSoup(page.content, 'html.parser')\n",
        "\n",
        "  # find all of the image tags with a class 'image-fluid'\n",
        "  image_tags = soup.find_all('img', class_ = 'image-fluid')\n",
        "\n",
        "  # for image_tag in image_tags:\n",
        "  #   print(image_tag['src'])\n",
        "\n",
        "\n",
        "  # find all of the name tags with a class 'type-caption'\n",
        "  name_tags = soup.find_all('p', class_ = 'type-caption')\n",
        "\n",
        "  for name_tag, image_tag in zip(name_tags, image_tags):\n",
        "    animal_name = name_tag.get_text().strip()\n",
        "    image_url = image_tag['src']\n",
        "\n",
        "\n",
        "\n",
        "    # Download the image\n",
        "    # image_response = requests.get(image_url)\n",
        "    # img = Image.open(BytesIO(image_response.content))\n",
        "\n",
        "    # Display the image\n",
        "    # plt.imshow(img)\n",
        "    # plt.axis('off')\n",
        "    # plt.title(animal_name)\n",
        "    # plt.show()\n",
        "\n",
        "    # extract the filename from the image url\n",
        "    filename = 'Downloads\\\\' +  os.path.basename(image_url)\n",
        "\n",
        "    # make a request to the server to download the image\n",
        "    with requests.get(image_url, stream = True) as image_response:\n",
        "      # open a file with the same name as the image\n",
        "      with open(filename, 'wb') as file:\n",
        "        # for each chunk of data received, we are writing it to the file\n",
        "        for chunk in image_response.iter_content(chunk_size = 8192):\n",
        "          file.write(chunk)\n",
        "\n",
        "    # print a message indicating that the file has been downloaded\n",
        "    print(f'Downloaded: {filename}')\n",
        "\n",
        "\n",
        "\n"
      ],
      "metadata": {
        "colab": {
          "base_uri": "https://localhost:8080/"
        },
        "id": "eCm5Fw2V6Cfe",
        "outputId": "53a97235-7a98-48fd-89c2-a7c0e3f7eb28"
      },
      "execution_count": null,
      "outputs": [
        {
          "output_type": "stream",
          "name": "stdout",
          "text": [
            "Downloaded: 6gsvuny4aq_Julie_Larsen_Maher_7484_Aardvark_CGB_BZ_02_08_12_hr.jpg\n",
            "Downloaded: 6dvre2p96i_Julie_Larsen_Maher_3392_African_Wild_dog_AFP_BZ_06_05_06_hr.jpg\n",
            "Downloaded: 8byuydm12v_6v6o7ki5ln_Julie_Larsen_Maher_4887_Aldabra_Tortoises_ZC_BZ_07_29_14_hr_card.jpg\n",
            "Downloaded: 8ejzemcnfp_Julie_Larsen_Maher_0514_American_Alligator_WOR_BZ_10_27_11_hr.jpg\n",
            "Downloaded: 2hiw57ef57_WCS_Exhibit_American_Bison_hero.jpg\n",
            "Downloaded: 5dkqfjmfp3_Julie_Larsen_Maher_2469_Amur_Tiger_in_snow_BZ_02_03_09_hr.jpg\n",
            "Downloaded: 3qzfwbmdxm_Julie_Larsen_Maher_6241_Common_Anaconda_09_26_06_hr.jpg\n",
            "Downloaded: 3ie026tq20_Julie_Larsen_Maher__5010_H_Andean_Condor_BOP_BZ_04_07_14.jpg\n",
            "Downloaded: 6cb9d71zcl_bz_card_elephant.jpg\n",
            "Downloaded: 1ax1wodhru_bz_card_sheep.jpg\n",
            "Downloaded: 3dxcy5aelr_Julie_Larsen_Maher_2351_Bald_Eagle_BZ_01_27_14_hr.jpg\n",
            "Downloaded: 3hu19mbwan__julie_larsen_maher_2688_blue_iguana_wor_bz_11_02_16_720.jpg\n",
            "Downloaded: 7lad6b5fzk_bz_card_goat.jpg\n",
            "Downloaded: 7vpjzw6xjc_Julie_Larsen_Maher_0987_California_Sea_Lions_kissing_SLC_PPZ_04_06_11_hr.jpg\n",
            "Downloaded: 7uzd3xbvrp_bz_card_flamingo.jpg\n",
            "Downloaded: 2ilj7syt60_Julie_Larsen_Maher_0309_Chinchilla_BZ_03_22_06_hr_cc.jpg\n",
            "Downloaded: 5haqdn2nrl_Julie_Larsen_Maher_7300_Collared_Lemur_Vivienne_MAD_BZ_05_29_08_hr_card.jpg\n",
            "Downloaded: 518bfv9cel_Julie_Larsen_Maher_9289_Coquerels_Sifaka_and_Infant_MAD_BZ_03_24_10_hr.jpg\n",
            "Downloaded: wf0kv04tn_bz_card_cubanparrot.jpg\n",
            "Downloaded: 2pfgfylc4l_BZ_exhibit_promo_Julie_Larsen_Maher_4850_dholes.jpg\n",
            "Downloaded: 9ap99hov6o_Julie_Larsen_Maher_6877_Red_Ebony_Langur_03_10_10.jpg\n",
            "Downloaded: 5kju887kke_bz_card_fennecfox.jpg\n",
            "Downloaded: 6s8m939m2p_Julie_Larsen_Maher_7979_Fossa_MAD_BZ_05_30_08_hr_card.jpg\n",
            "Downloaded: 5txngnfp9y_Julie_Larsen_Maher_4762_Gelada_Baboons_AFP_BZ_05_06_16.jpg\n",
            "Downloaded: 720v9xtg2i_Julie_Larsen_Maher_8583_Giant_Anteater_CZ_BZ_05_22_15.jpg\n",
            "Downloaded: 9hcmdcz0h3_Julie_Larsen_Maher_0158_Reticulated_Giraffe_BZ_05_24_10_hr.jpg\n",
            "Downloaded: 58azgpvf7e_Julie_Larsen_Maher_7403_Western_Lowland_Gorillas_and_Babies_CON_BZ_05_12_16.jpg\n",
            "Downloaded: 6qsbnol548_Julie_Larsen_Maher_2312_Grevys_Zebra_Foal_AFP_BZ_04_15_11_1_.jpg\n",
            "Downloaded: 4ttylod22w_Julie_Larsen_Maher_3883_Grizzly_Bear_cub_playing_in_water_BB_BZ_01_08_10_hr_1_.jpg\n",
            "Downloaded: 1f4vaw6e0i_Julie_Larsen_Maher_9631_Henkels_Leaf_tailed_Gecko_Hatchling_WOR_BZ_01_07_14_hr.jpg\n",
            "Downloaded: 37wp4l6yck__Julie_Larsen_Maher_6886_Indian_Gharials_JUN_BZ_03_02_17.jpg\n",
            "Downloaded: 4vmx1zf19u_Julie_Larsen_Maher_0271_Indian_Rhinoceros_WAS_BZ_10_18_07_hr.jpg\n",
            "Downloaded: 8aqlk18y8_Julie_Larsen_Maher_2724_King_Cobra_01_31_07_hr.jpg\n",
            "Downloaded: q6r317ywx_Julie_Larsen_Maher_0262_King_vulture_06_07_05_hr.jpg\n",
            "Downloaded: 24w468r40a_Julie_Larsen_Maher_2156_Komodo_Dragon_ZCR_BZ_05_20_14_hr.jpg\n",
            "Downloaded: 71qaek2bxl_bz_card_sloth.jpg\n",
            "Downloaded: 530xb11itj_lion_card.jpg\n",
            "Downloaded: 3zbwbk580y_penguin.jpg\n",
            "Downloaded: 25urih0o3q_Julie_Larsen_Maher_4810_Madagascar_Tree_Boa_03_04_09_hr.jpg\n",
            "Downloaded: 4sck2d0jyd_Julie_Larsen_Maher_1385_Magellanic_penguins_and_chick_SBA_BZ_06_04_10.jpg\n",
            "Downloaded: 9oa2km6grp_bz_card_tapir.jpg\n",
            "Downloaded: 3ndtkxkc9d_bz_card_malayantiger.jpg\n",
            "Downloaded: 4xmb6gxewo_bz_card_treekangaroo.jpg\n",
            "Downloaded: 2g5lil84d7_bz_card_donkey.jpg\n",
            "Downloaded: 5tpz6n0qtu_Julie_Larsen_Maher_0336_Monarch_butterfly_05_05_05_hr.jpg\n",
            "Downloaded: 6zvgilt3f0_Julie_Larsen_Maher_5473_Nile_Crocodile_Pair_MAD_BZ_05_21_08_hr.jpg\n",
            "Downloaded: 2mevdgc79h_bz_card_porcupine.jpg\n",
            "Downloaded: 1v3znvjg4v_Julie_Larsen_Maher_3911_Nubian_Ibex_05_08_09.jpg\n",
            "Downloaded: 4n9hj8kiix_Julie_Larsen_Maher_8094_Okapi_mother_and_calf_CON_BZ_06_22_09_hr.jpg\n",
            "Downloaded: 2guajxjnxf_Julie_Larsen_Maher_4758_Blue_Poison_Dart_Frog_01_26_06_hr.jpg\n",
            "Downloaded: 6nthuwf0zc_Julie_Larsen_Maher_8250_Pygmy_Marmoset_12_14_06_hr.jpg\n",
            "Downloaded: 7to5mq4gle_Julie_Larsen_Maher_9338_Radiated_Tortoise_MAD_BZ_06_06_08_hr.jpg\n",
            "Downloaded: 71lncbsivj_promo.jpg\n",
            "Downloaded: 3myfch6ey8_Lemur_Progress_Reports.jpg\n",
            "Downloaded: 2ibwo5nyey_76768945_200ee080_6772_11ea_99f1_23346ee95a58.jpg\n",
            "Downloaded: 6h01p2saud_Julie_Larsen_Maher_0598_Ring_tailed_Mongoose_MAD_BZ_06_09_08_card.jpg\n",
            "Downloaded: 35izamar1v_Julie_Larsen_Maher_0469_Rock_Hyrax_KEN_03_14_14_hr.jpg\n",
            "Downloaded: 4uzi4ttmp3_bz_card_otter.jpg\n",
            "Downloaded: 6xiy1or1j9_Julie_Larsen_Maher_8837_Chilean_Flamingo_with_Veterinarian_BZ_10_12_07.jpg\n",
            "Downloaded: 16ts7crj69_Julie_Larsen_Maher_5385_Snowy_Owl_Natures_Air_Show_BZ_08_26_09.jpg\n",
            "Downloaded: a8mtmkass_Julie_Larsen_Maher_7398_Southern_White_faced_Owls_CGB_BZ_02_07_12_hr_card.jpg\n",
            "Downloaded: 1680blha33_bz_card_whiterhino.jpg\n",
            "Downloaded: 5sdpp4rhlv_bz_card_squirrelmonkey.jpg\n",
            "Downloaded: 7npsqz48t4_Julie_Larsen_Maher_0038_Tufted_Puffin_10_19_04.jpg\n",
            "Downloaded: 1i44jrfyx8_Dennis_DeMello_0002_male_White_cheeked_Gibbon.jpg\n",
            "Downloaded: 6mf2w2qp7m_Julie_Larsen_Maher_2024_White_throated_Bee_eater_01_04_06_hr.jpg\n"
          ]
        }
      ]
    },
    {
      "cell_type": "code",
      "source": [
        "names = ['Bob', 'Rob', 'Alice', 'Lisa', 'Mike']\n",
        "scores = [90, 85, 94, 87, 75]"
      ],
      "metadata": {
        "id": "0FUx6z9n9SCg"
      },
      "execution_count": null,
      "outputs": []
    },
    {
      "cell_type": "code",
      "source": [
        "for name, score in zip(names, scores):\n",
        "  print(name, score)"
      ],
      "metadata": {
        "colab": {
          "base_uri": "https://localhost:8080/"
        },
        "id": "-4XQFezd9R4w",
        "outputId": "96378018-25f1-4d9a-8d76-ed28def92aed"
      },
      "execution_count": null,
      "outputs": [
        {
          "output_type": "stream",
          "name": "stdout",
          "text": [
            "Bob 90\n",
            "Rob 85\n",
            "Alice 87\n",
            "Lisa 75\n"
          ]
        }
      ]
    },
    {
      "cell_type": "code",
      "source": [],
      "metadata": {
        "id": "A9bxREAM6tqm"
      },
      "execution_count": null,
      "outputs": []
    }
  ]
}